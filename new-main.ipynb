{
 "cells": [
  {
   "cell_type": "markdown",
   "metadata": {},
   "source": [
    "# Project\n",
    "***\n",
    "### Cian Hogan\n",
    "### GMIT Data Analytics 2020\n",
    "### Programming for Data Analysis Module"
   ]
  },
  {
   "cell_type": "markdown",
   "metadata": {},
   "source": [
    "Data I want to generate\n",
    "\n",
    "|Year|Property Type|Location|Sqr Footage|Price (€)|\n",
    "|-----|-----|-----|-----|----|\n",
    "|    |     |      |     |    |"
   ]
  },
  {
   "cell_type": "markdown",
   "metadata": {},
   "source": [
    "Use previous property data to predict future house prices and generate sample data"
   ]
  },
  {
   "cell_type": "code",
   "execution_count": 90,
   "metadata": {},
   "outputs": [],
   "source": [
    "import pandas as pd\n",
    "import matplotlib.pyplot as plt\n",
    "import numpy as np\n",
    "import re"
   ]
  },
  {
   "cell_type": "code",
   "execution_count": 151,
   "metadata": {},
   "outputs": [
    {
     "name": "stdout",
     "output_type": "stream",
     "text": [
      "  Date of Sale (dd/mm/yyyy)    County     Price (€)\n",
      "0                  1/1/2010    Dublin  € 343,000.00\n",
      "1                  3/1/2010     Laois  € 185,000.00\n",
      "2                  4/1/2010    Dublin  € 438,500.00\n",
      "3                  4/1/2010     Meath  € 400,000.00\n",
      "4                  4/1/2010  Kilkenny  € 160,000.00\n"
     ]
    }
   ],
   "source": [
    "data = pd.read_csv(\"PPR-ALL.csv\", usecols=[\"Date of Sale (dd/mm/yyyy)\", \"County\", \"Price (€)\"])\n",
    "print(data.head())"
   ]
  },
  {
   "cell_type": "code",
   "execution_count": 190,
   "metadata": {
    "scrolled": true
   },
   "outputs": [
    {
     "name": "stdout",
     "output_type": "stream",
     "text": [
      "804625.7033148435\n"
     ]
    }
   ],
   "source": [
    "print(round(data[\"Price\"].std())"
   ]
  },
  {
   "cell_type": "code",
   "execution_count": 153,
   "metadata": {},
   "outputs": [],
   "source": [
    "data[\"Price\"] = data.loc[:,\"Price (€)\"].str.slice(1,).str.replace(\",\", \"\").astype(float)"
   ]
  },
  {
   "cell_type": "code",
   "execution_count": 195,
   "metadata": {},
   "outputs": [
    {
     "name": "stdout",
     "output_type": "stream",
     "text": [
      "  Date of Sale (dd/mm/yyyy)    County     Price (€)     Price  Year\n",
      "0                  1/1/2010    Dublin  € 343,000.00  343000.0  2010\n",
      "1                  3/1/2010     Laois  € 185,000.00  185000.0  2010\n",
      "2                  4/1/2010    Dublin  € 438,500.00  438500.0  2010\n",
      "3                  4/1/2010     Meath  € 400,000.00  400000.0  2010\n",
      "4                  4/1/2010  Kilkenny  € 160,000.00  160000.0  2010\n"
     ]
    },
    {
     "data": {
      "text/plain": [
       "5030.53"
      ]
     },
     "execution_count": 195,
     "metadata": {},
     "output_type": "execute_result"
    }
   ],
   "source": [
    "print(data.head())\n",
    "data[\"Price\"].min()"
   ]
  },
  {
   "cell_type": "markdown",
   "metadata": {},
   "source": [
    "## Price by County\n",
    "***"
   ]
  },
  {
   "cell_type": "code",
   "execution_count": 8,
   "metadata": {},
   "outputs": [
    {
     "data": {
      "text/plain": [
       "255374.0"
      ]
     },
     "execution_count": 8,
     "metadata": {},
     "output_type": "execute_result"
    }
   ],
   "source": [
    "round(data[\"Price\"].mean(),0)"
   ]
  },
  {
   "cell_type": "markdown",
   "metadata": {},
   "source": [
    "## Percentage of houses sold by county"
   ]
  },
  {
   "cell_type": "code",
   "execution_count": 155,
   "metadata": {
    "scrolled": true
   },
   "outputs": [
    {
     "name": "stdout",
     "output_type": "stream",
     "text": [
      "County\n",
      "Carlow       0.0109\n",
      "Cavan        0.0155\n",
      "Clare        0.0229\n",
      "Cork         0.1095\n",
      "Donegal      0.0274\n",
      "Dublin       0.3223\n",
      "Galway       0.0505\n",
      "Kerry        0.0290\n",
      "Kildare      0.0500\n",
      "Kilkenny     0.0157\n",
      "Laois        0.0151\n",
      "Leitrim      0.0090\n",
      "Limerick     0.0374\n",
      "Longford     0.0085\n",
      "Louth        0.0266\n",
      "Mayo         0.0237\n",
      "Meath        0.0396\n",
      "Monaghan     0.0078\n",
      "Offaly       0.0119\n",
      "Roscommon    0.0143\n",
      "Sligo        0.0148\n",
      "Tipperary    0.0268\n",
      "Waterford    0.0264\n",
      "Westmeath    0.0193\n",
      "Wexford      0.0340\n",
      "Wicklow      0.0311\n",
      "Name: Price, dtype: float64\n"
     ]
    }
   ],
   "source": [
    "countyCount = round(data[\"Price\"].groupby(data[\"County\"]).count()/len(data),4)\n",
    "\n",
    "print(countyCount)"
   ]
  },
  {
   "cell_type": "code",
   "execution_count": 156,
   "metadata": {
    "scrolled": true
   },
   "outputs": [
    {
     "name": "stdout",
     "output_type": "stream",
     "text": [
      "County\n",
      "Carlow       135000.00\n",
      "Cavan         97500.00\n",
      "Clare        132500.00\n",
      "Cork         190000.00\n",
      "Donegal      100000.00\n",
      "Dublin       299560.00\n",
      "Galway       170000.00\n",
      "Kerry        136563.87\n",
      "Kildare      241829.96\n",
      "Kilkenny     155000.00\n",
      "Laois        127753.30\n",
      "Leitrim       82000.00\n",
      "Limerick     145000.00\n",
      "Longford      77500.00\n",
      "Louth        162500.00\n",
      "Mayo         105000.00\n",
      "Meath        225000.00\n",
      "Monaghan     115000.00\n",
      "Offaly       121150.00\n",
      "Roscommon     83000.00\n",
      "Sligo        105000.00\n",
      "Tipperary    120000.00\n",
      "Waterford    135000.00\n",
      "Westmeath    130000.00\n",
      "Wexford      142500.00\n",
      "Wicklow      260000.00\n",
      "Name: Price, dtype: float64\n"
     ]
    }
   ],
   "source": [
    "countyMedian = data[\"Price\"].groupby(data[\"County\"]).median()\n",
    "countyMean = data[\"Price\"].groupby(data[\"County\"]).mean()\n",
    "\n",
    "print(countyMedian)"
   ]
  },
  {
   "cell_type": "code",
   "execution_count": 189,
   "metadata": {
    "scrolled": true
   },
   "outputs": [
    {
     "name": "stdout",
     "output_type": "stream",
     "text": [
      "County\n",
      "Carlow       0.699482\n",
      "Cavan        0.505181\n",
      "Clare        0.686528\n",
      "Cork         0.984456\n",
      "Donegal      0.518135\n",
      "Dublin       1.552124\n",
      "Galway       0.880829\n",
      "Kerry        0.707585\n",
      "Kildare      1.253005\n",
      "Kilkenny     0.803109\n",
      "Laois        0.661934\n",
      "Leitrim      0.424870\n",
      "Limerick     0.751295\n",
      "Longford     0.401554\n",
      "Louth        0.841969\n",
      "Mayo         0.544041\n",
      "Meath        1.165803\n",
      "Monaghan     0.595855\n",
      "Offaly       0.627720\n",
      "Roscommon    0.430052\n",
      "Sligo        0.544041\n",
      "Tipperary    0.621762\n",
      "Waterford    0.699482\n",
      "Westmeath    0.673575\n",
      "Wexford      0.738342\n",
      "Wicklow      1.347150\n",
      "Name: Price, dtype: float64\n"
     ]
    }
   ],
   "source": [
    "medianRatio = (countyMedian/data[\"Price\"].median())\n",
    "\n",
    "print(medianRatio)"
   ]
  },
  {
   "cell_type": "markdown",
   "metadata": {},
   "source": [
    "## Price by year\n",
    "***\n"
   ]
  },
  {
   "cell_type": "code",
   "execution_count": 158,
   "metadata": {
    "scrolled": false
   },
   "outputs": [
    {
     "name": "stdout",
     "output_type": "stream",
     "text": [
      "  Date of Sale (dd/mm/yyyy)    County     Price (€)     Price  Year\n",
      "0                  1/1/2010    Dublin  € 343,000.00  343000.0  2010\n",
      "1                  3/1/2010     Laois  € 185,000.00  185000.0  2010\n",
      "2                  4/1/2010    Dublin  € 438,500.00  438500.0  2010\n",
      "3                  4/1/2010     Meath  € 400,000.00  400000.0  2010\n",
      "4                  4/1/2010  Kilkenny  € 160,000.00  160000.0  2010\n"
     ]
    }
   ],
   "source": [
    "data[\"Year\"] = pd.DatetimeIndex(data.loc[:,\"Date of Sale (dd/mm/yyyy)\"]).year\n",
    "\n",
    "print(data.head())"
   ]
  },
  {
   "cell_type": "markdown",
   "metadata": {},
   "source": []
  },
  {
   "cell_type": "code",
   "execution_count": 162,
   "metadata": {},
   "outputs": [],
   "source": [
    "yearMedian = data.groupby(\"Year\").median()"
   ]
  },
  {
   "cell_type": "code",
   "execution_count": 163,
   "metadata": {},
   "outputs": [
    {
     "name": "stdout",
     "output_type": "stream",
     "text": [
      "          Price\n",
      "Year           \n",
      "2010  202000.00\n",
      "2011  170000.00\n",
      "2012  150000.00\n",
      "2013  138000.00\n",
      "2014  150000.00\n",
      "2015  162500.00\n",
      "2016  183000.00\n",
      "2017  210000.00\n",
      "2018  227000.00\n",
      "2019  235881.99\n",
      "2020  240000.00\n"
     ]
    }
   ],
   "source": [
    "print(yearMedian)\n"
   ]
  },
  {
   "cell_type": "code",
   "execution_count": 164,
   "metadata": {},
   "outputs": [],
   "source": [
    "yearMedian[\"Pct Change\"] = yearMedian.pct_change()"
   ]
  },
  {
   "cell_type": "code",
   "execution_count": 224,
   "metadata": {
    "scrolled": true
   },
   "outputs": [
    {
     "name": "stdout",
     "output_type": "stream",
     "text": [
      "Price         188034.726364\n",
      "Pct Change         0.022546\n",
      "dtype: float64\n",
      "Price         36857.728771\n",
      "Pct Change        0.105846\n",
      "dtype: float64\n"
     ]
    }
   ],
   "source": [
    "print(yearMedian.mean())\n",
    "print(yearMedian.std())"
   ]
  },
  {
   "cell_type": "code",
   "execution_count": 18,
   "metadata": {
    "scrolled": true
   },
   "outputs": [
    {
     "data": {
      "text/plain": [
       "2.254597992459668"
      ]
     },
     "execution_count": 18,
     "metadata": {},
     "output_type": "execute_result"
    }
   ],
   "source": [
    "yearMedian[\"Pct Change\"].mean()"
   ]
  },
  {
   "cell_type": "markdown",
   "metadata": {},
   "source": [
    "## House Size/Type"
   ]
  },
  {
   "cell_type": "code",
   "execution_count": null,
   "metadata": {},
   "outputs": [],
   "source": []
  },
  {
   "cell_type": "code",
   "execution_count": 19,
   "metadata": {},
   "outputs": [],
   "source": [
    "#with open(\"avg-prices-by-type.txt\") as filo:"
   ]
  },
  {
   "cell_type": "code",
   "execution_count": null,
   "metadata": {},
   "outputs": [],
   "source": []
  },
  {
   "cell_type": "markdown",
   "metadata": {},
   "source": [
    "# Generate Data"
   ]
  },
  {
   "cell_type": "markdown",
   "metadata": {},
   "source": [
    "#### Generate county"
   ]
  },
  {
   "cell_type": "code",
   "execution_count": 247,
   "metadata": {},
   "outputs": [
    {
     "name": "stdout",
     "output_type": "stream",
     "text": [
      "     Date   County m_Squared Price\n",
      "0     NaN   Galway       NaN   NaN\n",
      "1     NaN   Dublin       NaN   NaN\n",
      "2     NaN     Cork       NaN   NaN\n",
      "3     NaN  Leitrim       NaN   NaN\n",
      "4     NaN   Dublin       NaN   NaN\n",
      "...   ...      ...       ...   ...\n",
      "9995  NaN    Meath       NaN   NaN\n",
      "9996  NaN   Dublin       NaN   NaN\n",
      "9997  NaN  Leitrim       NaN   NaN\n",
      "9998  NaN     Mayo       NaN   NaN\n",
      "9999  NaN   Dublin       NaN   NaN\n",
      "\n",
      "[10000 rows x 4 columns]\n"
     ]
    }
   ],
   "source": [
    "sample = pd.DataFrame(columns=[\"Date\", \"County\", \"m_Squared\", \"Price\"])\n",
    "\n",
    "rng = np.random.default_rng()\n",
    "\n",
    "sample[\"County\"]= rng.choice(countyCount.index, p=countyCount.values, size=10000)\n",
    "\n",
    "print(sample)"
   ]
  },
  {
   "cell_type": "markdown",
   "metadata": {},
   "source": [
    "#### Generate Date"
   ]
  },
  {
   "cell_type": "code",
   "execution_count": 248,
   "metadata": {},
   "outputs": [
    {
     "name": "stdout",
     "output_type": "stream",
     "text": [
      "        Date   County m_Squared Price  Year\n",
      "0 2022-02-05   Galway       NaN   NaN  2022\n",
      "1 2024-10-10   Dublin       NaN   NaN  2024\n",
      "2 2024-04-11     Cork       NaN   NaN  2024\n",
      "3 2022-04-01  Leitrim       NaN   NaN  2022\n",
      "4 2021-05-30   Dublin       NaN   NaN  2021\n"
     ]
    }
   ],
   "source": [
    "dates = pd.date_range(start='1/1/2021', end='31/12/2025')\n",
    "sample[\"Date\"] = rng.choice(dates, size=len(sample))\n",
    "sample[\"Year\"] = pd.DatetimeIndex(sample.loc[:,\"Date\"]).year\n",
    "print(sample.head())"
   ]
  },
  {
   "cell_type": "markdown",
   "metadata": {},
   "source": [
    "#### Generate Sqr Footage"
   ]
  },
  {
   "cell_type": "code",
   "execution_count": 249,
   "metadata": {},
   "outputs": [
    {
     "name": "stdout",
     "output_type": "stream",
     "text": [
      "3152.76818600237\n",
      "2382.716049382716\n",
      "22.5\n"
     ]
    }
   ],
   "source": [
    "# avg square footage ireland = 81m2\n",
    "\n",
    "print(data[\"Price\"].mean()/81)\n",
    "print(data[\"Price\"].median()/81)\n",
    "\n",
    "avgPerM = data[\"Price\"].mean()/81\n",
    "\n",
    "areaStd = (149-59)/4\n",
    "\n",
    "print(areaStd)\n"
   ]
  },
  {
   "cell_type": "code",
   "execution_count": 250,
   "metadata": {},
   "outputs": [
    {
     "name": "stdout",
     "output_type": "stream",
     "text": [
      "        Date   County  m_Squared Price  Year\n",
      "0 2022-02-05   Galway       89.0   NaN  2022\n",
      "1 2024-10-10   Dublin       90.0   NaN  2024\n",
      "2 2024-04-11     Cork       80.0   NaN  2024\n",
      "3 2022-04-01  Leitrim       41.0   NaN  2022\n",
      "4 2021-05-30   Dublin       46.0   NaN  2021\n"
     ]
    }
   ],
   "source": [
    "sample[\"m_Squared\"] = rng.normal(loc=81, scale=areaStd, size=len(sample))\n",
    "sample[\"m_Squared\"] = round(sample[\"m_Squared\"])\n",
    "\n",
    "print(sample.head())"
   ]
  },
  {
   "cell_type": "markdown",
   "metadata": {},
   "source": [
    "#### Generate Sale Price"
   ]
  },
  {
   "cell_type": "code",
   "execution_count": 251,
   "metadata": {},
   "outputs": [],
   "source": [
    "medRatio = []\n",
    "\n",
    "for i in sample[\"County\"]:\n",
    "    ratio = medianRatio[i]\n",
    "    \n",
    "    medRatio.append(ratio)\n",
    "\n"
   ]
  },
  {
   "cell_type": "markdown",
   "metadata": {},
   "source": []
  },
  {
   "cell_type": "code",
   "execution_count": 252,
   "metadata": {},
   "outputs": [],
   "source": [
    "# Create random change in year avg\n",
    "yearPct = {}\n",
    "pct = 1\n",
    "for year in range(2021, 2026):\n",
    "    \n",
    "    yearPct[year] = round(pct + rng.normal(loc=0.022546, scale=0.105846),4)\n",
    "\n",
    "growth = []\n",
    "\n",
    "for i in sample[\"Year\"]:\n",
    "    growpct = yearPct[i]\n",
    "    \n",
    "    growth.append(growpct)\n",
    "    \n"
   ]
  },
  {
   "cell_type": "code",
   "execution_count": 253,
   "metadata": {},
   "outputs": [],
   "source": [
    "msquarePrice = []\n",
    "\n",
    "for i in sample[\"m_Squared\"]:\n",
    "        \n",
    "    price = i * avgPerM\n",
    "        \n",
    "    msquarePrice.append(price)\n",
    "        "
   ]
  },
  {
   "cell_type": "code",
   "execution_count": 254,
   "metadata": {},
   "outputs": [],
   "source": [
    "medRatio = np.asarray(medRatio)\n",
    "growth = np.asarray(growth)\n",
    "msquarePrice = np.asarray(msquarePrice)\n",
    "\n",
    "price = medRatio*growth*msquarePrice"
   ]
  },
  {
   "cell_type": "code",
   "execution_count": 255,
   "metadata": {},
   "outputs": [],
   "source": [
    "sample[\"Price\"] = price\n",
    "sample[\"Price\"] = sample[\"Price\"].round()"
   ]
  },
  {
   "cell_type": "code",
   "execution_count": 256,
   "metadata": {},
   "outputs": [
    {
     "name": "stdout",
     "output_type": "stream",
     "text": [
      "        Date   County  m_Squared     Price  Year\n",
      "0 2022-02-05   Galway       89.0  274345.0  2022\n",
      "1 2024-10-10   Dublin       90.0  516606.0  2024\n",
      "2 2024-04-11     Cork       80.0  291257.0  2024\n",
      "3 2022-04-01  Leitrim       41.0   60961.0  2022\n",
      "4 2021-05-30   Dublin       46.0  237571.0  2021\n"
     ]
    }
   ],
   "source": [
    "print(sample.head())"
   ]
  },
  {
   "cell_type": "markdown",
   "metadata": {},
   "source": [
    "# Analyse Generated Data"
   ]
  },
  {
   "cell_type": "markdown",
   "metadata": {},
   "source": [
    "Analyse the relationship between price and county|m2|Date"
   ]
  },
  {
   "cell_type": "code",
   "execution_count": null,
   "metadata": {},
   "outputs": [],
   "source": []
  },
  {
   "cell_type": "code",
   "execution_count": null,
   "metadata": {},
   "outputs": [],
   "source": []
  },
  {
   "cell_type": "code",
   "execution_count": null,
   "metadata": {},
   "outputs": [],
   "source": []
  },
  {
   "cell_type": "code",
   "execution_count": null,
   "metadata": {},
   "outputs": [],
   "source": []
  },
  {
   "cell_type": "code",
   "execution_count": null,
   "metadata": {},
   "outputs": [],
   "source": []
  },
  {
   "cell_type": "code",
   "execution_count": null,
   "metadata": {},
   "outputs": [],
   "source": []
  },
  {
   "cell_type": "code",
   "execution_count": null,
   "metadata": {},
   "outputs": [],
   "source": []
  },
  {
   "cell_type": "code",
   "execution_count": null,
   "metadata": {},
   "outputs": [],
   "source": []
  },
  {
   "cell_type": "code",
   "execution_count": null,
   "metadata": {},
   "outputs": [],
   "source": []
  },
  {
   "cell_type": "code",
   "execution_count": null,
   "metadata": {},
   "outputs": [],
   "source": []
  },
  {
   "cell_type": "code",
   "execution_count": null,
   "metadata": {},
   "outputs": [],
   "source": []
  },
  {
   "cell_type": "code",
   "execution_count": null,
   "metadata": {},
   "outputs": [],
   "source": []
  },
  {
   "cell_type": "markdown",
   "metadata": {},
   "source": [
    "# References"
   ]
  },
  {
   "cell_type": "markdown",
   "metadata": {},
   "source": [
    "https://propertypriceregister.ie/Website/NPSRA/pprweb.nsf/page/ppr-home-en\n",
    "\n",
    "https://www.macrotrends.net/countries/IRL/ireland/gdp-growth-rate\n",
    "\n",
    "https://static.rasset.ie/documents/news/2020/07/daft.pdf\n",
    "\n",
    "https://www.finfacts-blog.com/2018/08/average-irish-housing-size-lowest-of.html#:~:text=What%20is%20striking%20about%20average,and%20107%20in%20the%20Netherlands\n",
    "\n",
    "https://www.rightmove.co.uk/news/articles/property-news/values-per-square-metre-of-houses-in-england-and-wales-revealed/#:~:text=The%20average%20asking%20price%20per%20square%20metre%20of%20houses%20across,%C2%A310%2C427%20per%20square%20metre\n",
    "\n",
    "https://assets.publishing.service.gov.uk/government/uploads/system/uploads/attachment_data/file/725085/Floor_Space_in_English_Homes_main_report.pdf"
   ]
  }
 ],
 "metadata": {
  "kernelspec": {
   "display_name": "Python 3",
   "language": "python",
   "name": "python3"
  },
  "language_info": {
   "codemirror_mode": {
    "name": "ipython",
    "version": 3
   },
   "file_extension": ".py",
   "mimetype": "text/x-python",
   "name": "python",
   "nbconvert_exporter": "python",
   "pygments_lexer": "ipython3",
   "version": "3.8.3"
  }
 },
 "nbformat": 4,
 "nbformat_minor": 4
}
