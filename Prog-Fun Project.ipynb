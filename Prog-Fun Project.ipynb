{
 "cells": [
  {
   "cell_type": "markdown",
   "metadata": {},
   "source": [
    "# Programming Fundamentals - Project\n",
    "## GMIT Data Analytics 2020\n",
    "## Cian Hogan\n",
    "***"
   ]
  },
  {
   "cell_type": "markdown",
   "metadata": {},
   "source": [
    "# Project Propostiton\n",
    "\n",
    "Create sample data of call centre NPS scores.\n",
    "\n",
    "Dependant variable- Call centre NPS\n",
    "\n",
    "independant variable- Agent experience/skill, High-Medium-Low\n",
    "\n",
    "wait times - 0-∞ (centering around a mean value)\n",
    "\n",
    "issue resolved - Bool Yes/No\n",
    "\n",
    "\n"
   ]
  },
  {
   "cell_type": "markdown",
   "metadata": {},
   "source": [
    "## Simulate call centre data\n",
    "***\n",
    "\n",
    "We are attempting to generate sample call centre statistics. The four variable that we are going to look at are wait time before the call is answered **waitTime**, experience level of the customer service agent **agentExp**, whether the customers issue was resolved **issueRes** and the net promoter score **NPS**. The first 3 variables are considered independant as the outcome of one does not change the outcome of another. *It could be argued that agent experience could affect the rate at which issues are resolved but in this case we are going to assume they are independant and that issue resolution is based entirely on the customers issue itself.*\n",
    "\n",
    "The key variable that we will look at is NPS. NPS or net promoter score is dependant on the other factors that we are measuring. If a customer has to wait a long time to speak to an agent, the less experienced the agent they speak with, and if the problem could not be resolved then they are less likely to recommend the service to a friend or familly member."
   ]
  },
  {
   "cell_type": "code",
   "execution_count": null,
   "metadata": {},
   "outputs": [],
   "source": []
  },
  {
   "cell_type": "markdown",
   "metadata": {},
   "source": [
    "# NPS net promoter score"
   ]
  },
  {
   "cell_type": "code",
   "execution_count": 6,
   "metadata": {},
   "outputs": [],
   "source": [
    "import numpy as np\n",
    "import pandas as pd"
   ]
  },
  {
   "cell_type": "markdown",
   "metadata": {},
   "source": [
    "We can generate some sample average customer wait times using the poisson distribution in numpys random package. "
   ]
  },
  {
   "cell_type": "code",
   "execution_count": 17,
   "metadata": {},
   "outputs": [],
   "source": [
    "def waitTime(avg, n=1):\n",
    "    rng = np.random.default_rng()\n",
    "    \n",
    "    wait = rng.poisson(lam=avg, size=n)\n",
    "    \n",
    "    return wait        "
   ]
  },
  {
   "cell_type": "code",
   "execution_count": null,
   "metadata": {},
   "outputs": [],
   "source": []
  },
  {
   "cell_type": "code",
   "execution_count": 20,
   "metadata": {},
   "outputs": [],
   "source": [
    "def agentExp(perc, n=1):\n",
    "    \n",
    "    rng = np.random.default_rng()\n",
    "    \n",
    "    agent = rng.choice(a=[\"low\", \"medium\", \"high\"], p=perc, size=n)\n",
    "    \n",
    "    return agent"
   ]
  },
  {
   "cell_type": "code",
   "execution_count": 19,
   "metadata": {},
   "outputs": [],
   "source": [
    "def issueRes(avgRate, n=1):\n",
    "    \n",
    "    rng = np.random.default_rng()\n",
    "    \n",
    "    res = rng.choice(a=[True, False], p=[avgRate, 1-avgRate], size=n)\n",
    "    \n",
    "    return res"
   ]
  },
  {
   "cell_type": "code",
   "execution_count": 40,
   "metadata": {},
   "outputs": [],
   "source": [
    "def genData(nCalls, avgWait, agentExp_perc, avgRes=1):\n",
    "    \n",
    "    data = pd.DataFrame()\n",
    "    \n",
    "    wait = waitTime(n=nCalls, avg=avgWait)\n",
    "    \n",
    "    data[\"Wait time\"] = wait\n",
    "    \n",
    "    agent = agentExp(perc=agentExp_perc, n=nCalls)\n",
    "    \n",
    "    data[\"Agent Exp\"] = agent\n",
    "    \n",
    "    resolve = issueRes(avgRes, nCalls)\n",
    "    \n",
    "    data[\"Issue Resolved\"] = resolve\n",
    "    \n",
    "    return data"
   ]
  },
  {
   "cell_type": "code",
   "execution_count": 45,
   "metadata": {},
   "outputs": [],
   "source": [
    "indData1 = genData(100, avgWait = 60, agentExp_perc= [.20,.30,.50], avgRes=.7)"
   ]
  },
  {
   "cell_type": "code",
   "execution_count": 47,
   "metadata": {},
   "outputs": [],
   "source": [
    "indData2 = genData(100, avgWait = 120, agentExp_perc= [.50,.40,.10], avgRes=.5)"
   ]
  },
  {
   "cell_type": "code",
   "execution_count": 56,
   "metadata": {},
   "outputs": [
    {
     "name": "stdout",
     "output_type": "stream",
     "text": [
      "Pandas(_0=56, _1='high', _2=False)\n"
     ]
    }
   ],
   "source": [
    "print(next(indData1.itertuples(index=False)))\n",
    "        "
   ]
  },
  {
   "cell_type": "code",
   "execution_count": 52,
   "metadata": {},
   "outputs": [
    {
     "name": "stdout",
     "output_type": "stream",
     "text": [
      "Pandas(_0=56, _1='high', _2=False)\n",
      "Pandas(_0=41, _1='medium', _2=True)\n",
      "Pandas(_0=55, _1='high', _2=True)\n",
      "Pandas(_0=59, _1='high', _2=True)\n",
      "Pandas(_0=62, _1='medium', _2=False)\n",
      "Pandas(_0=53, _1='medium', _2=True)\n",
      "Pandas(_0=58, _1='medium', _2=True)\n",
      "Pandas(_0=66, _1='low', _2=True)\n",
      "Pandas(_0=67, _1='high', _2=True)\n",
      "Pandas(_0=67, _1='high', _2=True)\n",
      "Pandas(_0=54, _1='medium', _2=False)\n",
      "Pandas(_0=58, _1='medium', _2=False)\n",
      "Pandas(_0=68, _1='low', _2=False)\n",
      "Pandas(_0=63, _1='high', _2=True)\n",
      "Pandas(_0=62, _1='medium', _2=True)\n",
      "Pandas(_0=57, _1='medium', _2=False)\n",
      "Pandas(_0=60, _1='medium', _2=True)\n",
      "Pandas(_0=50, _1='high', _2=False)\n",
      "Pandas(_0=59, _1='low', _2=True)\n",
      "Pandas(_0=62, _1='medium', _2=True)\n",
      "Pandas(_0=55, _1='high', _2=True)\n",
      "Pandas(_0=72, _1='high', _2=True)\n",
      "Pandas(_0=78, _1='high', _2=True)\n",
      "Pandas(_0=43, _1='high', _2=True)\n",
      "Pandas(_0=52, _1='low', _2=False)\n",
      "Pandas(_0=62, _1='medium', _2=True)\n",
      "Pandas(_0=63, _1='medium', _2=False)\n",
      "Pandas(_0=64, _1='high', _2=True)\n",
      "Pandas(_0=71, _1='high', _2=True)\n",
      "Pandas(_0=52, _1='low', _2=True)\n",
      "Pandas(_0=59, _1='high', _2=False)\n",
      "Pandas(_0=68, _1='high', _2=True)\n",
      "Pandas(_0=53, _1='medium', _2=False)\n",
      "Pandas(_0=63, _1='medium', _2=True)\n",
      "Pandas(_0=56, _1='medium', _2=True)\n",
      "Pandas(_0=61, _1='high', _2=False)\n",
      "Pandas(_0=45, _1='high', _2=False)\n",
      "Pandas(_0=59, _1='high', _2=True)\n",
      "Pandas(_0=63, _1='high', _2=True)\n",
      "Pandas(_0=49, _1='low', _2=True)\n",
      "Pandas(_0=56, _1='high', _2=True)\n",
      "Pandas(_0=56, _1='high', _2=True)\n",
      "Pandas(_0=59, _1='low', _2=True)\n",
      "Pandas(_0=60, _1='medium', _2=True)\n",
      "Pandas(_0=63, _1='medium', _2=True)\n",
      "Pandas(_0=55, _1='medium', _2=False)\n",
      "Pandas(_0=52, _1='medium', _2=True)\n",
      "Pandas(_0=72, _1='high', _2=True)\n",
      "Pandas(_0=62, _1='low', _2=True)\n",
      "Pandas(_0=63, _1='medium', _2=False)\n",
      "Pandas(_0=52, _1='high', _2=True)\n",
      "Pandas(_0=67, _1='medium', _2=True)\n",
      "Pandas(_0=64, _1='high', _2=False)\n",
      "Pandas(_0=55, _1='high', _2=True)\n",
      "Pandas(_0=73, _1='high', _2=True)\n",
      "Pandas(_0=53, _1='high', _2=True)\n",
      "Pandas(_0=54, _1='low', _2=True)\n",
      "Pandas(_0=52, _1='medium', _2=True)\n",
      "Pandas(_0=63, _1='high', _2=True)\n",
      "Pandas(_0=57, _1='high', _2=True)\n",
      "Pandas(_0=59, _1='low', _2=True)\n",
      "Pandas(_0=51, _1='high', _2=True)\n",
      "Pandas(_0=55, _1='high', _2=True)\n",
      "Pandas(_0=69, _1='high', _2=True)\n",
      "Pandas(_0=49, _1='medium', _2=True)\n",
      "Pandas(_0=57, _1='medium', _2=True)\n",
      "Pandas(_0=54, _1='medium', _2=True)\n",
      "Pandas(_0=68, _1='low', _2=True)\n",
      "Pandas(_0=67, _1='high', _2=False)\n",
      "Pandas(_0=57, _1='high', _2=True)\n",
      "Pandas(_0=57, _1='high', _2=False)\n",
      "Pandas(_0=66, _1='high', _2=True)\n",
      "Pandas(_0=58, _1='medium', _2=True)\n",
      "Pandas(_0=55, _1='low', _2=True)\n",
      "Pandas(_0=65, _1='high', _2=True)\n",
      "Pandas(_0=60, _1='high', _2=True)\n",
      "Pandas(_0=55, _1='medium', _2=True)\n",
      "Pandas(_0=57, _1='high', _2=True)\n",
      "Pandas(_0=69, _1='medium', _2=False)\n",
      "Pandas(_0=76, _1='medium', _2=False)\n",
      "Pandas(_0=77, _1='medium', _2=True)\n",
      "Pandas(_0=54, _1='low', _2=True)\n",
      "Pandas(_0=68, _1='medium', _2=True)\n",
      "Pandas(_0=56, _1='high', _2=True)\n",
      "Pandas(_0=82, _1='medium', _2=False)\n",
      "Pandas(_0=63, _1='medium', _2=True)\n",
      "Pandas(_0=60, _1='medium', _2=True)\n",
      "Pandas(_0=67, _1='high', _2=True)\n",
      "Pandas(_0=56, _1='medium', _2=True)\n",
      "Pandas(_0=52, _1='medium', _2=True)\n",
      "Pandas(_0=60, _1='high', _2=False)\n",
      "Pandas(_0=62, _1='high', _2=False)\n",
      "Pandas(_0=55, _1='high', _2=True)\n",
      "Pandas(_0=58, _1='low', _2=True)\n",
      "Pandas(_0=62, _1='medium', _2=False)\n",
      "Pandas(_0=66, _1='medium', _2=True)\n",
      "Pandas(_0=62, _1='high', _2=True)\n",
      "Pandas(_0=54, _1='medium', _2=True)\n",
      "Pandas(_0=59, _1='high', _2=True)\n",
      "Pandas(_0=54, _1='high', _2=True)\n"
     ]
    }
   ],
   "source": []
  },
  {
   "cell_type": "code",
   "execution_count": null,
   "metadata": {},
   "outputs": [],
   "source": []
  },
  {
   "cell_type": "markdown",
   "metadata": {},
   "source": [
    "NPS rough work\n",
    "    "
   ]
  },
  {
   "cell_type": "code",
   "execution_count": null,
   "metadata": {},
   "outputs": [],
   "source": []
  },
  {
   "cell_type": "code",
   "execution_count": null,
   "metadata": {},
   "outputs": [],
   "source": []
  },
  {
   "cell_type": "code",
   "execution_count": null,
   "metadata": {},
   "outputs": [],
   "source": []
  },
  {
   "cell_type": "code",
   "execution_count": null,
   "metadata": {},
   "outputs": [],
   "source": []
  },
  {
   "cell_type": "code",
   "execution_count": null,
   "metadata": {},
   "outputs": [],
   "source": []
  },
  {
   "cell_type": "code",
   "execution_count": null,
   "metadata": {},
   "outputs": [],
   "source": []
  },
  {
   "cell_type": "markdown",
   "metadata": {},
   "source": [
    "Reference"
   ]
  },
  {
   "cell_type": "code",
   "execution_count": null,
   "metadata": {},
   "outputs": [],
   "source": [
    "HBR https://hbr.org/2003/12/the-one-number-you-need-to-grow"
   ]
  }
 ],
 "metadata": {
  "kernelspec": {
   "display_name": "Python 3",
   "language": "python",
   "name": "python3"
  },
  "language_info": {
   "codemirror_mode": {
    "name": "ipython",
    "version": 3
   },
   "file_extension": ".py",
   "mimetype": "text/x-python",
   "name": "python",
   "nbconvert_exporter": "python",
   "pygments_lexer": "ipython3",
   "version": "3.8.3"
  }
 },
 "nbformat": 4,
 "nbformat_minor": 4
}
