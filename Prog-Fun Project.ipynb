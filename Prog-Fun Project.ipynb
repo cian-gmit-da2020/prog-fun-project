{
 "cells": [
  {
   "cell_type": "markdown",
   "metadata": {},
   "source": [
    "# Programming Fundamentals - Project\n",
    "## GMIT Data Analytics 2020\n",
    "## Cian Hogan\n",
    "***"
   ]
  },
  {
   "cell_type": "markdown",
   "metadata": {},
   "source": [
    "# Project Propostiton\n",
    "\n",
    "Create sample data of call centre NPS scores.\n",
    "\n",
    "Dependant variable- Call centre NPS\n",
    "\n",
    "independant variable- Agent experience/skill, High-Medium-Low\n",
    "\n",
    "wait times - 0-∞ (centering around a mean value)\n",
    "\n",
    "issue resolved - Bool Yes/No\n",
    "\n",
    "\n"
   ]
  },
  {
   "cell_type": "markdown",
   "metadata": {},
   "source": [
    "## Simulate call centre data\n",
    "***\n",
    "\n",
    "We are attempting to generate sample call centre statistics. The four variable that we are going to look at are wait time before the call is answered **waitTime**, experience level of the customer service agent **agentExp**, whether the customers issue was resolved **issueRes** and the net promoter score **NPS**. The first 3 variables are considered independant as the outcome of one does not change the outcome of another. *It could be argued that agent experience could affect the rate at which issues are resolved but in this case we are going to assume they are independant and that issue resolution is based entirely on the customers issue itself.*\n",
    "\n",
    "The key variable that we will look at is NPS. NPS or net promoter score is dependant on the other factors that we are measuring. If a customer has to wait a long time to speak to an agent, the less experienced the agent they speak with, and if the problem could not be resolved then they are less likely to recommend the service to a friend or familly member."
   ]
  },
  {
   "cell_type": "code",
   "execution_count": null,
   "metadata": {},
   "outputs": [],
   "source": []
  },
  {
   "cell_type": "markdown",
   "metadata": {},
   "source": [
    "# NPS net promoter score"
   ]
  },
  {
   "cell_type": "code",
   "execution_count": 40,
   "metadata": {},
   "outputs": [],
   "source": [
    "import numpy as np\n",
    "import pandas as pd"
   ]
  },
  {
   "cell_type": "markdown",
   "metadata": {},
   "source": [
    "We write a function that can generate some sample average customer wait times using the poisson distribution in numpys random package. "
   ]
  },
  {
   "cell_type": "code",
   "execution_count": 41,
   "metadata": {},
   "outputs": [],
   "source": [
    "def waitTime(avg, n=1):\n",
    "    rng = np.random.default_rng()\n",
    "    \n",
    "    wait = rng.poisson(lam=avg, size=n)\n",
    "    \n",
    "    return wait        "
   ]
  },
  {
   "cell_type": "markdown",
   "metadata": {},
   "source": [
    "We write a function that can generate whether the call in connected to an agent with high or low experience."
   ]
  },
  {
   "cell_type": "code",
   "execution_count": 42,
   "metadata": {},
   "outputs": [],
   "source": [
    "def agentExp(perc, n=1):\n",
    "    \n",
    "    rng = np.random.default_rng()\n",
    "    \n",
    "    agent = rng.choice(a=[\"low\", \"high\"], p=perc, size=n)\n",
    "    \n",
    "    return agent"
   ]
  },
  {
   "cell_type": "markdown",
   "metadata": {},
   "source": [
    "We write a function that assigns whether a calls issue is resolved or not based on an average resolution rate."
   ]
  },
  {
   "cell_type": "code",
   "execution_count": 43,
   "metadata": {},
   "outputs": [],
   "source": [
    "def issueRes(avgRate, n=1):\n",
    "    \n",
    "    rng = np.random.default_rng()\n",
    "    \n",
    "    res = rng.choice(a=[True, False], p=[avgRate, 1-avgRate], size=n)\n",
    "    \n",
    "    return res"
   ]
  },
  {
   "cell_type": "markdown",
   "metadata": {},
   "source": [
    "We write a function that uses the 3 functions we wrote earlier to generate a pandas dataframe of 3 variables."
   ]
  },
  {
   "cell_type": "code",
   "execution_count": 49,
   "metadata": {},
   "outputs": [],
   "source": [
    "def callData(nCalls, avgWait, agentExp_perc, avgRes):\n",
    "    \n",
    "    data = pd.DataFrame()\n",
    "    \n",
    "    wait = waitTime(n=nCalls, avg=avgWait)\n",
    "    \n",
    "    data[\"Wait time\"] = wait\n",
    "    \n",
    "    agent = agentExp(perc=agentExp_perc, n=nCalls)\n",
    "    \n",
    "    data[\"Agent Exp\"] = agent\n",
    "    \n",
    "    resolve = issueRes(avgRes, nCalls)\n",
    "    \n",
    "    data[\"Issue Resolved\"] = resolve\n",
    "    \n",
    "    return data"
   ]
  },
  {
   "cell_type": "markdown",
   "metadata": {},
   "source": [
    "We write a function that takes a 3var dataframe and generates a NPS score based on the variables in the dataframe "
   ]
  },
  {
   "cell_type": "code",
   "execution_count": 47,
   "metadata": {},
   "outputs": [],
   "source": [
    "def genNPS(df):\n",
    "    \n",
    "    rng = np.random.default_rng()\n",
    "    \n",
    "    NPSarr = []\n",
    "\n",
    "    for item in df.itertuples(index=False):\n",
    "        waitTime, agent, resolved = item[0], item[1], item[2]\n",
    "        avgNPS = 10\n",
    "    \n",
    "        if not resolved:\n",
    "            avgNPS -= 3\n",
    "    \n",
    "        if waitTime > 90:\n",
    "            avgNPS -= 1\n",
    "        \n",
    "        if agent == \"low\":\n",
    "            avgNPS -= 2\n",
    "        \n",
    "        NPS = rng.normal(avgNPS)\n",
    "    \n",
    "        if NPS > 10:\n",
    "            NPS = 10\n",
    "        \n",
    "        NPSarr.append(int(NPS))\n",
    "    \n",
    "    df[\"NPS\"] = NPSarr\n",
    "    \n",
    "    return df\n",
    "    "
   ]
  },
  {
   "cell_type": "markdown",
   "metadata": {},
   "source": [
    "We write a final function here which builds on the previous functions to build a total 4 var dataframe that encapsulates all the call data we are lloking to create."
   ]
  },
  {
   "cell_type": "code",
   "execution_count": 54,
   "metadata": {
    "scrolled": true
   },
   "outputs": [],
   "source": [
    "def genData(calls, waitTime, agentPerc, avgRes):\n",
    "    \n",
    "    df = callData(nCalls=calls, avgWait=waitTime, agentExp_perc=agentPerc, avgRes=avgRes)\n",
    "    \n",
    "    data = genNPS(df)\n",
    "    \n",
    "    return data"
   ]
  },
  {
   "cell_type": "code",
   "execution_count": 55,
   "metadata": {},
   "outputs": [],
   "source": [
    "nps_df = genData(100, waitTime = 120, agentPerc= [.50,.50], avgRes=.5)"
   ]
  },
  {
   "cell_type": "code",
   "execution_count": 56,
   "metadata": {},
   "outputs": [
    {
     "name": "stdout",
     "output_type": "stream",
     "text": [
      "   Wait time Agent Exp  Issue Resolved  NPS\n",
      "0        149      high            True    8\n",
      "1        107       low            True    6\n",
      "2        118      high            True    8\n",
      "3        119       low            True    7\n",
      "4        119      high            True   10\n"
     ]
    }
   ],
   "source": [
    "print(nps_df.head())"
   ]
  },
  {
   "cell_type": "code",
   "execution_count": null,
   "metadata": {},
   "outputs": [],
   "source": []
  },
  {
   "cell_type": "code",
   "execution_count": null,
   "metadata": {},
   "outputs": [],
   "source": []
  },
  {
   "cell_type": "code",
   "execution_count": null,
   "metadata": {},
   "outputs": [],
   "source": []
  },
  {
   "cell_type": "code",
   "execution_count": null,
   "metadata": {},
   "outputs": [],
   "source": []
  },
  {
   "cell_type": "code",
   "execution_count": null,
   "metadata": {},
   "outputs": [],
   "source": []
  },
  {
   "cell_type": "code",
   "execution_count": null,
   "metadata": {},
   "outputs": [],
   "source": []
  },
  {
   "cell_type": "code",
   "execution_count": null,
   "metadata": {},
   "outputs": [],
   "source": []
  },
  {
   "cell_type": "code",
   "execution_count": null,
   "metadata": {},
   "outputs": [],
   "source": []
  },
  {
   "cell_type": "code",
   "execution_count": null,
   "metadata": {},
   "outputs": [],
   "source": []
  },
  {
   "cell_type": "markdown",
   "metadata": {},
   "source": [
    "Reference"
   ]
  },
  {
   "cell_type": "markdown",
   "metadata": {},
   "source": [
    "HBR https://hbr.org/2003/12/the-one-number-you-need-to-grow\n",
    "\n",
    "Wait time https://www.callcentrehelper.com/is-there-a-correlation-between-queue-time-and-customer-satisfaction-levels-100270.htm\n",
    "\n",
    "resolution https://stellaconnect.com/2018/05/27/first-contact-resolution-is-the-king-of-customer-service-metrics-heres-why/\n",
    "\n"
   ]
  }
 ],
 "metadata": {
  "kernelspec": {
   "display_name": "Python 3",
   "language": "python",
   "name": "python3"
  },
  "language_info": {
   "codemirror_mode": {
    "name": "ipython",
    "version": 3
   },
   "file_extension": ".py",
   "mimetype": "text/x-python",
   "name": "python",
   "nbconvert_exporter": "python",
   "pygments_lexer": "ipython3",
   "version": "3.8.3"
  }
 },
 "nbformat": 4,
 "nbformat_minor": 4
}
