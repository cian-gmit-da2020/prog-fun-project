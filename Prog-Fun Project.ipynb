{
 "cells": [
  {
   "cell_type": "markdown",
   "metadata": {},
   "source": [
    "# Programming Fundamentals - Project\n",
    "## GMIT Data Analytics 2020\n",
    "## Cian Hogan\n",
    "***"
   ]
  },
  {
   "cell_type": "markdown",
   "metadata": {},
   "source": [
    "# Project Propostiton\n",
    "\n",
    "Create sample data of call centre NPS scores.\n",
    "\n",
    "Dependant variable- Call centre NPS\n",
    "\n",
    "independant variable- Agent experience/skill, High-Medium-Low\n",
    "\n",
    "wait times - 0-∞ (centering around a mean value)\n",
    "\n",
    "issue resolved - Bool Yes/No\n",
    "\n",
    "\n"
   ]
  },
  {
   "cell_type": "markdown",
   "metadata": {},
   "source": [
    "## Simulate call centre data\n",
    "***\n",
    "\n",
    "We are attempting to generate sample call centre statistics. The four variables that we are going to look at are wait time before the call is answered **waitTime**, experience level of the customer service agent **agentExp**, whether the customers issue was resolved **issueRes** and the net promoter score **NPS**. The first 3 variables are considered independant as the outcome of one does not change the outcome of another. *It could be argued that agent experience could affect the rate at which issues are resolved but in this case we are going to assume they are independant and that issue resolution is based entirely on the customers issue itself.*\n",
    "\n",
    "The key variable that we will look at is **NPS** or Net Promoter Score. We are assuming NPS is dependant on the other factors that we are measuring. If a customer has to wait a long time to speak to an agent, the less experienced the agent they speak with, and if the problem could not be resolved then we would expect the customer to be less likely to recommend the service to a friend or familly member."
   ]
  },
  {
   "cell_type": "markdown",
   "metadata": {},
   "source": [
    "# Introduction to NPS\n",
    "***"
   ]
  },
  {
   "cell_type": "markdown",
   "metadata": {},
   "source": [
    "NPS or Net Promoter Score is a metric used by compaines to measure their customer loyalty. A single survey question is used with the customer asked to choose a score between 0-10. A higher score is desirably for the company [1].\n",
    "\n",
    "A standard NPS question may look like the below and would possible include a section where the customer can add free text comments:\n",
    "```\n",
    "On a scale of 0 to 10, how likely is it that you would recommend \n",
    "our [company, product, service] to a friend or colleague?\n",
    "```\n",
    "\n",
    "This NPS question is used as a way to measure customer loyalty which can be a good predictor of company growth. This can be used to quantify a compnaies potential to generate new business through word of mouth referral from customers [2]. \n",
    "\n",
    "To calculate an overall NPS score for a company you would bucket the responses they receive into 3 groups:\n",
    "- 0-6: Detractors\n",
    "- 7-8: Passive\n",
    "- 9-10: Promoters\n",
    "\n",
    "To calculate an overall score we minus the Detractors from the Promoters and divide by the total amount of responses to get a percentage score. In the below example 5 customers scored below 6, 5 customers scored 7 or 8 and 10 customers scored a 9 or 10. \n",
    "\n",
    "```\n",
    "Promoters minus Detractors: 10 - 5 = 5\n",
    "Result divided by total survey responses 5/20 = .25 or 25%\n",
    "```\n",
    "\n",
    "Even though half of the respondents gave a score of 9 or 10 the companies NPS score is only 25% when we account for the passive and negative scores they recieved. This is beacuse although enthusiasticly happy and loyal customers like our promoters help to drive growth, unhappy and disatisfied customers can damage the brand too [3]. The goal of the company should be to convert as many detractors and passive customers as possible to become promoters, increasing their overall NPS score and griving business growth through word of mouth marketing."
   ]
  },
  {
   "cell_type": "code",
   "execution_count": 1,
   "metadata": {
    "scrolled": true
   },
   "outputs": [
    {
     "name": "stdout",
     "output_type": "stream",
     "text": [
      "0.25\n"
     ]
    }
   ],
   "source": [
    "# Typical responses\n",
    "detractors = 5\n",
    "passive = 5\n",
    "promoters = 10\n",
    "\n",
    "nps = (promoters-detractors)/(detractors+passive+promoters)\n",
    "print(nps)\n"
   ]
  },
  {
   "cell_type": "markdown",
   "metadata": {},
   "source": [
    "# Wait Time\n",
    "***\n",
    "The first variable that we are going to look at in detail is **Customer Wait Time** which we define by how long the customer is on the phone before they are connected to an agent."
   ]
  },
  {
   "cell_type": "code",
   "execution_count": 1,
   "metadata": {},
   "outputs": [],
   "source": [
    "import numpy as np\n",
    "import pandas as pd"
   ]
  },
  {
   "cell_type": "markdown",
   "metadata": {},
   "source": [
    "We write a function that can generate some sample average customer wait times using the poisson distribution in numpys random package. "
   ]
  },
  {
   "cell_type": "code",
   "execution_count": 2,
   "metadata": {},
   "outputs": [],
   "source": [
    "def waitTime(avg, n=1):\n",
    "    rng = np.random.default_rng()\n",
    "    \n",
    "    wait = rng.poisson(lam=avg, size=n)\n",
    "    \n",
    "    return wait        "
   ]
  },
  {
   "cell_type": "markdown",
   "metadata": {},
   "source": [
    "We write a function that can generate whether the call in connected to an agent with high or low experience."
   ]
  },
  {
   "cell_type": "code",
   "execution_count": 3,
   "metadata": {},
   "outputs": [],
   "source": [
    "def agentExp(perc, n=1):\n",
    "    \n",
    "    rng = np.random.default_rng()\n",
    "    \n",
    "    agent = rng.choice(a=[\"low\", \"high\"], p=perc, size=n)\n",
    "    \n",
    "    return agent"
   ]
  },
  {
   "cell_type": "markdown",
   "metadata": {},
   "source": [
    "We write a function that assigns whether a calls issue is resolved or not based on an average resolution rate."
   ]
  },
  {
   "cell_type": "code",
   "execution_count": 4,
   "metadata": {},
   "outputs": [],
   "source": [
    "def issueRes(avgRate, n=1):\n",
    "    \n",
    "    rng = np.random.default_rng()\n",
    "    \n",
    "    res = rng.choice(a=[True, False], p=[avgRate, 1-avgRate], size=n)\n",
    "    \n",
    "    return res"
   ]
  },
  {
   "cell_type": "markdown",
   "metadata": {},
   "source": [
    "We write a function that uses the 3 functions we wrote earlier to generate a pandas dataframe of 3 variables."
   ]
  },
  {
   "cell_type": "code",
   "execution_count": 5,
   "metadata": {},
   "outputs": [],
   "source": [
    "def callData(nCalls, avgWait, agentExp_perc, avgRes):\n",
    "    \n",
    "    data = pd.DataFrame()\n",
    "    \n",
    "    wait = waitTime(n=nCalls, avg=avgWait)\n",
    "    \n",
    "    data[\"Wait time\"] = wait\n",
    "    \n",
    "    agent = agentExp(perc=agentExp_perc, n=nCalls)\n",
    "    \n",
    "    data[\"Agent Exp\"] = agent\n",
    "    \n",
    "    resolve = issueRes(avgRes, nCalls)\n",
    "    \n",
    "    data[\"Issue Resolved\"] = resolve\n",
    "    \n",
    "    return data"
   ]
  },
  {
   "cell_type": "markdown",
   "metadata": {},
   "source": [
    "We write a function that takes a 3var dataframe and generates a NPS score based on the variables in the dataframe "
   ]
  },
  {
   "cell_type": "code",
   "execution_count": 6,
   "metadata": {},
   "outputs": [],
   "source": [
    "def genNPS(df):\n",
    "    \n",
    "    rng = np.random.default_rng()\n",
    "    \n",
    "    NPSarr = []\n",
    "\n",
    "    for item in df.itertuples(index=False):\n",
    "        waitTime, agent, resolved = item[0], item[1], item[2]\n",
    "        avgNPS = 10\n",
    "    \n",
    "        if not resolved:\n",
    "            avgNPS -= 3\n",
    "    \n",
    "        if waitTime > 90:\n",
    "            avgNPS -= 1\n",
    "        \n",
    "        if agent == \"low\":\n",
    "            avgNPS -= 2\n",
    "        \n",
    "        NPS = rng.normal(avgNPS)\n",
    "    \n",
    "        if NPS > 10:\n",
    "            NPS = 10\n",
    "        \n",
    "        NPSarr.append(int(NPS))\n",
    "    \n",
    "    df[\"NPS\"] = NPSarr\n",
    "    \n",
    "    return df\n",
    "    "
   ]
  },
  {
   "cell_type": "markdown",
   "metadata": {},
   "source": [
    "We write a final function here which builds on the previous functions to build a total 4 var dataframe that encapsulates all the call data we are lloking to create."
   ]
  },
  {
   "cell_type": "code",
   "execution_count": 7,
   "metadata": {
    "scrolled": true
   },
   "outputs": [],
   "source": [
    "def genData(calls, waitTime, agentPerc, avgRes):\n",
    "    \n",
    "    df = callData(nCalls=calls, avgWait=waitTime, agentExp_perc=agentPerc, avgRes=avgRes)\n",
    "    \n",
    "    data = genNPS(df)\n",
    "    \n",
    "    return data"
   ]
  },
  {
   "cell_type": "markdown",
   "metadata": {},
   "source": [
    "## Generating Data"
   ]
  },
  {
   "cell_type": "code",
   "execution_count": 25,
   "metadata": {},
   "outputs": [],
   "source": [
    "nps_df1 = genData(1000, waitTime = 120, agentPerc= [.50,.50], avgRes=.5)"
   ]
  },
  {
   "cell_type": "code",
   "execution_count": 26,
   "metadata": {},
   "outputs": [
    {
     "name": "stdout",
     "output_type": "stream",
     "text": [
      "   Wait time Agent Exp  Issue Resolved  NPS\n",
      "0        102       low           False    4\n",
      "1        134       low           False    3\n",
      "2        100       low           False    5\n",
      "3        118      high            True    8\n",
      "4        125      high            True    8\n"
     ]
    }
   ],
   "source": [
    "print(nps_df1.head())"
   ]
  },
  {
   "cell_type": "code",
   "execution_count": 30,
   "metadata": {},
   "outputs": [
    {
     "name": "stdout",
     "output_type": "stream",
     "text": [
      "6.067\n"
     ]
    }
   ],
   "source": [
    "print(nps_df1.loc[:, \"NPS\"].mean())"
   ]
  },
  {
   "cell_type": "code",
   "execution_count": 42,
   "metadata": {},
   "outputs": [],
   "source": [
    "nps_df2 = genData(1000, waitTime = 60, agentPerc= [.30,.70], avgRes=.9)"
   ]
  },
  {
   "cell_type": "code",
   "execution_count": 43,
   "metadata": {},
   "outputs": [
    {
     "name": "stdout",
     "output_type": "stream",
     "text": [
      "   Wait time Agent Exp  Issue Resolved  NPS\n",
      "0         61      high           False    6\n",
      "1         49       low            True    7\n",
      "2         54      high            True    9\n",
      "3         56       low            True    7\n",
      "4         54      high            True   10\n"
     ]
    }
   ],
   "source": [
    "print(nps_df2.head())"
   ]
  },
  {
   "cell_type": "code",
   "execution_count": 44,
   "metadata": {},
   "outputs": [
    {
     "name": "stdout",
     "output_type": "stream",
     "text": [
      "0       True\n",
      "1      False\n",
      "2      False\n",
      "3      False\n",
      "4      False\n",
      "       ...  \n",
      "995    False\n",
      "996    False\n",
      "997    False\n",
      "998    False\n",
      "999    False\n",
      "Name: NPS, Length: 1000, dtype: bool\n"
     ]
    }
   ],
   "source": [
    "print(nps_df2.loc[:, \"NPS\"] <=6)"
   ]
  },
  {
   "cell_type": "code",
   "execution_count": 51,
   "metadata": {},
   "outputs": [],
   "source": [
    "NPS_score1 = (len(nps_df1.loc[nps_df1['NPS'] > 8]) - len(nps_df1.loc[nps_df1['NPS'] < 7]))/len(nps_df1)"
   ]
  },
  {
   "cell_type": "code",
   "execution_count": 52,
   "metadata": {},
   "outputs": [
    {
     "name": "stdout",
     "output_type": "stream",
     "text": [
      "-0.416\n"
     ]
    }
   ],
   "source": [
    "print(NPS_score1)"
   ]
  },
  {
   "cell_type": "code",
   "execution_count": 53,
   "metadata": {},
   "outputs": [],
   "source": [
    "NPS_score2 = (len(nps_df2.loc[nps_df2['NPS'] > 8]) - len(nps_df2.loc[nps_df2['NPS'] < 7]))/len(nps_df2)"
   ]
  },
  {
   "cell_type": "code",
   "execution_count": 54,
   "metadata": {},
   "outputs": [
    {
     "name": "stdout",
     "output_type": "stream",
     "text": [
      "0.449\n"
     ]
    }
   ],
   "source": [
    "print(NPS_score2)"
   ]
  },
  {
   "cell_type": "code",
   "execution_count": 59,
   "metadata": {},
   "outputs": [],
   "source": [
    "import matplotlib.pyplot as plt\n",
    "import seaborn as sns"
   ]
  },
  {
   "cell_type": "code",
   "execution_count": 64,
   "metadata": {},
   "outputs": [
    {
     "name": "stdout",
     "output_type": "stream",
     "text": [
      "   Wait time Agent Exp  Issue Resolved  NPS\n",
      "1         49       low            True    7\n",
      "2         54      high            True    9\n",
      "3         56       low            True    7\n",
      "4         54      high            True   10\n",
      "5         77      high            True   10\n"
     ]
    }
   ],
   "source": [
    "res_df = nps_df2.loc[nps_df2['Issue Resolved'] == True]\n",
    "print(res_df.head())"
   ]
  },
  {
   "cell_type": "code",
   "execution_count": 58,
   "metadata": {},
   "outputs": [
    {
     "data": {
      "text/plain": [
       "(array([ 10.,  37.,  84., 121., 155., 165., 141., 131., 113.,  43.]),\n",
       " array([ 1. ,  1.9,  2.8,  3.7,  4.6,  5.5,  6.4,  7.3,  8.2,  9.1, 10. ]),\n",
       " <a list of 10 Patch objects>)"
      ]
     },
     "execution_count": 58,
     "metadata": {},
     "output_type": "execute_result"
    },
    {
     "data": {
      "image/png": "[encoded data removed]",
      "text/plain": [
       "<Figure size 432x288 with 1 Axes>"
      ]
     },
     "metadata": {
      "needs_background": "light"
     },
     "output_type": "display_data"
    }
   ],
   "source": [
    "plt.hist(nps_df1.loc[:, \"NPS\"])"
   ]
  },
  {
   "cell_type": "code",
   "execution_count": 62,
   "metadata": {},
   "outputs": [
    {
     "data": {
      "text/plain": [
       "<matplotlib.axes._subplots.AxesSubplot at 0x2277fdf40a0>"
      ]
     },
     "execution_count": 62,
     "metadata": {},
     "output_type": "execute_result"
    },
    {
     "data": {
      "image/png": "[encoded data removed]",
      "text/plain": [
       "<Figure size 432x288 with 1 Axes>"
      ]
     },
     "metadata": {
      "needs_background": "light"
     },
     "output_type": "display_data"
    }
   ],
   "source": [
    "sns.distplot(nps_df1.loc[:, \"NPS\"], hist=True)"
   ]
  },
  {
   "cell_type": "markdown",
   "metadata": {},
   "source": [
    "# References"
   ]
  },
  {
   "cell_type": "markdown",
   "metadata": {},
   "source": [
    "1. qualtrics.com. What is Net Promoter Score (NPS)? Everything you need to know https://www.qualtrics.com/uk/experience-management/customer/net-promoter-score/\n",
    "2. Reichheld Frederich, (2003). The One Number You Need to Grow. https://hbr.org/2003/12/the-one-number-you-need-to-grow\n",
    "3. Scorebuddy. How to Improve Customer Experience with NPS in Call Centers. https://blog.scorebuddyqa.com/improve-customer-experience-with-nps-call-centers\n",
    "\n",
    "\n"
   ]
  },
  {
   "cell_type": "markdown",
   "metadata": {},
   "source": [
    "HBR https://hbr.org/2003/12/the-one-number-you-need-to-grow\n",
    "\n",
    "Wait time https://www.callcentrehelper.com/is-there-a-correlation-between-queue-time-and-customer-satisfaction-levels-100270.htm\n",
    "\n",
    "resolution https://stellaconnect.com/2018/05/27/first-contact-resolution-is-the-king-of-customer-service-metrics-heres-why/\n",
    "\n"
   ]
  }
 ],
 "metadata": {
  "kernelspec": {
   "display_name": "Python 3",
   "language": "python",
   "name": "python3"
  },
  "language_info": {
   "codemirror_mode": {
    "name": "ipython",
    "version": 3
   },
   "file_extension": ".py",
   "mimetype": "text/x-python",
   "name": "python",
   "nbconvert_exporter": "python",
   "pygments_lexer": "ipython3",
   "version": "3.8.3"
  }
 },
 "nbformat": 4,
 "nbformat_minor": 4
}
